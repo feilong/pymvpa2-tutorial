{
  "metadata": {
    "name": "Visualization of Data Projection Methods"
  }, 
  "nbformat": 3, 
  "nbformat_minor": 0, 
  "worksheets": [
    {
      "cells": [
        {
          "cell_type": "heading", 
          "level": 1, 
          "metadata": {}, 
          "source": [
            "Visualization of Data Projection Methods"
          ]
        }, 
        {
          "cell_type": "code", 
          "collapsed": false, 
          "input": [
            "from mvpa2.support.pylab import pl\nfrom mvpa2.misc.data_generators import noisy_2d_fx\nfrom mvpa2.mappers.svd import SVDMapper\nfrom mvpa2.mappers.mdp_adaptor import ICAMapper, PCAMapper\nfrom mvpa2 import cfg\n\ncenter = [10, 20]\naxis_range = 7\n\n##REF: Name was automagically refactored\ndef plot_proj_dir(p):\n    pl.plot([0, p[0,0]], [0, p[0,1]],\n           linewidth=3, hold=True, color='y')\n    pl.plot([0, p[1,0]], [0, p[1,1]],\n           linewidth=3, hold=True, color='k')\n\nmappers = {\n            'PCA': PCAMapper(),\n            'SVD': SVDMapper(),\n            'ICA': ICAMapper(alg='CuBICA'),\n          }\ndatasets = [\n    noisy_2d_fx(100, lambda x: x, [lambda x: x],\n                center, noise_std=0.5),\n    noisy_2d_fx(50, lambda x: x, [lambda x: x, lambda x: -x],\n                center, noise_std=0.5),\n    noisy_2d_fx(50, lambda x: x, [lambda x: x, lambda x: 0],\n                center, noise_std=0.5),\n   ]\n\nndatasets = len(datasets)\nnmappers = len(mappers.keys())\n\npl.figure(figsize=(8,8))\nfig = 1\n\nfor ds in datasets:\n    for mname, mapper in mappers.iteritems():\n        mapper.train(ds)\n\n        dproj = mapper.forward(ds.samples)\n        mproj = mapper.proj\n        pl.subplot(ndatasets, nmappers, fig)\n        if fig <= 3:\n            pl.title(mname)\n        pl.axis('equal')\n\n        pl.scatter(ds.samples[:, 0] - center[0],\n                  ds.samples[:, 1] - center[1],\n                  s=30, c=(ds.sa.targets) * 200)\n        plot_proj_dir(mproj)\n        fig += 1"
          ], 
          "language": "python", 
          "metadata": {}, 
          "outputs": []
        }, 
        {
          "cell_type": "markdown", 
          "metadata": {}, 
          "source": [
            "\n\n", 
            "Output of the example:\n\n\\[Visit [http://pymvpa.org/examples/projections.html](http://pymvpa.org/examples/projections.html) to view this figure\\]"
          ]
        }
      ], 
      "metadata": {}
    }
  ]
}