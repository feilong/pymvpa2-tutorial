{
  "metadata": {
    "name": "Multi-dimensional Searchlights"
  }, 
  "nbformat": 3, 
  "nbformat_minor": 0, 
  "worksheets": [
    {
      "cells": [
        {
          "cell_type": "heading", 
          "level": 1, 
          "metadata": {}, 
          "source": [
            "Multi-dimensional Searchlights"
          ]
        }, 
        {
          "cell_type": "markdown", 
          "metadata": {}, 
          "source": [
            "\n\n", 
            "This is a little addendum to ", 
            "*chap_tutorial_eventrelated* where we want to\ncombine what we have learned about event-related data analysis and, at the same\ntime, take a little glimpse on the power of PyMVPA for \"multi-space\" analysis.\n\n", 
            "First let's re-create the dataset with the spatio-temporal features from\n", 
            "*chap_tutorial_eventrelated*:"
          ]
        }, 
        {
          "cell_type": "code", 
          "collapsed": false, 
          "input": [
            "from mvpa2.tutorial_suite import *\n", 
            "ds = get_raw_haxby2001_data(roi=(36,38,39,40))\n", 
            "poly_detrend(ds, polyord=1, chunks_attr='chunks')\n", 
            "zscore(ds, chunks_attr='chunks', param_est=('targets', 'rest'))\n", 
            "events = find_events(targets=ds.sa.targets, chunks=ds.sa.chunks)\n", 
            "events = [ev for ev in events if ev['targets'] in ['house', 'face']]\n", 
            "event_duration = 13\n", 
            "for ev in events:\n    ev['onset'] -= 2\n    ev['duration'] = event_duration\n", 
            "evds = eventrelated_dataset(ds, events=events)"
          ], 
          "language": "python", 
          "metadata": {}, 
          "outputs": []
        }, 
        {
          "cell_type": "markdown", 
          "metadata": {}, 
          "source": [
            "\n\n", 
            "From the ", 
            "*chap_tutorial_searchlight* we know how to do searchlight\nanalyses and it was promised that there is more to it than what we already saw.\nAnd here it is:"
          ]
        }, 
        {
          "cell_type": "code", 
          "collapsed": false, 
          "input": [
            "cvte = CrossValidation(GNB(), NFoldPartitioner(),\n                       postproc=mean_sample())\n", 
            "sl = Searchlight(cvte,\n                 IndexQueryEngine(voxel_indices=Sphere(1),\n                                  event_offsetidx=Sphere(2)),\n                 postproc=mean_sample())\n", 
            "res = sl(evds)"
          ], 
          "language": "python", 
          "metadata": {}, 
          "outputs": []
        }, 
        {
          "cell_type": "markdown", 
          "metadata": {}, 
          "source": [
            "\n\n", 
            "Have you been able to deduce what this analysis will do? Clearly, it is some\nsort of searchlight, but it doesn't use\n", 
            "[sphere_searchlight()](http://pymvpa.org/generated/mvpa2.measures.searchlight.sphere_searchlight.html#mvpa2-measures-searchlight-sphere-searchlight). Instead, it utilizes\n", 
            "[Searchlight](http://pymvpa.org/generated/mvpa2.measures.searchlight.Searchlight.html#mvpa2-measures-searchlight-searchlight). Yes, you are correct this is\na spatio-temporal searchlight. The searchlight focus travels along all possible\nlocations in our ventral temporal ROI, but at the same time also along the\nperistimulus time segment covered by the events. The spatial searchlight extent\nis the center voxel and its immediate neighbors and the temporal dimension\ncomprises of two additional time-points in each direction. The result is again\na dataset. Its shape is compatible with the mapper of `evds`, hence it can\nalso be back-projected into the original 4D fMRI brain space.\n\n", 
            "[Searchlight](http://pymvpa.org/generated/mvpa2.measures.searchlight.Searchlight.html#mvpa2-measures-searchlight-searchlight) is a powerful class that\nallows for complex runtime ROI generation. In this case it uses an\n", 
            "[IndexQueryEngine](http://pymvpa.org/generated/mvpa2.misc.neighborhood.IndexQueryEngine.html#mvpa2-misc-neighborhood-indexqueryengine) to look at certain\nfeature attributes in the dataset to compose sphere-shaped ROIs in two\nspaces at the same time. This approach is very flexible and can be\nextended with additional query engines to algorithms of almost arbitrary\ncomplexity."
          ]
        }, 
        {
          "cell_type": "code", 
          "collapsed": false, 
          "input": [
            "ts = res.a.mapper.reverse1(1 - res.samples[0])\n", 
            "ni = nb.Nifti1Image(ts, ds.a.imgaffine).to_filename('ersl.nii')"
          ], 
          "language": "python", 
          "metadata": {}, 
          "outputs": []
        }, 
        {
          "cell_type": "markdown", 
          "metadata": {}, 
          "source": [
            "\n\n", 
            "After you are done and want to tidy up after yourself, you can easily remove\nunneeded generated files from within Python:"
          ]
        }, 
        {
          "cell_type": "code", 
          "collapsed": false, 
          "input": [
            "os.unlink('ersl.nii')"
          ], 
          "language": "python", 
          "metadata": {}, 
          "outputs": []
        }
      ], 
      "metadata": {}
    }
  ]
}