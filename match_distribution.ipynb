{
  "metadata": {
    "name": "Determine the Distribution of some Variable"
  }, 
  "nbformat": 3, 
  "nbformat_minor": 0, 
  "worksheets": [
    {
      "cells": [
        {
          "cell_type": "heading", 
          "level": 1, 
          "metadata": {}, 
          "source": [
            "Determine the Distribution of some Variable"
          ]
        }, 
        {
          "cell_type": "markdown", 
          "metadata": {}, 
          "source": [
            "\n\n", 
            "This is an example demonstrating discovery of the distribution\nfacility."
          ]
        }, 
        {
          "cell_type": "code", 
          "collapsed": false, 
          "input": [
            "from mvpa2.suite import *\n\nverbose.level = 2\nif __debug__:\n    # report useful debug information for the example\n    debug.active += ['STAT', 'STAT_']"
          ], 
          "language": "python", 
          "metadata": {}, 
          "outputs": []
        }, 
        {
          "cell_type": "markdown", 
          "metadata": {}, 
          "source": [
            "\n\n", 
            "While doing distribution matching, this example also demonstrates\ninfrastructure within PyMVPA to log a progress report not only on the\nscreen, but also into external files, such as", 
            "\n\n* ", 
            "simple text file,", 
            "\n\n* ", 
            "PDF file including all text messages and pictures which were rendered.", 
            "\n\n", 
            "For PDF report you need to have `reportlab` external available."
          ]
        }, 
        {
          "cell_type": "code", 
          "collapsed": false, 
          "input": [
            "report = Report(name='match_distribution_report',\n                title='PyMVPA Example: match_distribution.py')\nverbose.handlers += [report]     # Lets add verbose output to the report.\n                                 # Similar action could be done to 'debug'\n\n# Also append verbose output into a log file we care about\nverbose.handlers += [open('match_distribution_report.log', 'a')]\n\n#\n# Figure for just normal distribution\n#\n\n# generate random signal from normal distribution\nverbose(1, \"Random signal with normal distribution\")\ndata = np.random.normal(size=(1000, 1))\n\n# find matching distributions\n# NOTE: since kstest is broken in older versions of scipy\n#       p-roc testing is done here, which aims to minimize\n#       false positives/negatives while doing H0-testing\ntest = 'p-roc'\nfigsize = (15, 10)\nverbose(1, \"Find matching datasets\")\nmatches = match_distribution(data, test=test, p=0.05)\n\npl.figure(figsize=figsize)\npl.subplot(2, 1, 1)\nplot_distribution_matches(data, matches, legend=1, nbest=5)\npl.title('Normal: 5 best distributions')\n\npl.subplot(2, 1, 2)\nplot_distribution_matches(data, matches, nbest=5, p=0.05,\n                        tail='any', legend=4)\npl.title('Accept regions for two-tailed test')\n\n# we are done with the figure -- add it to report\nreport.figure()\n\n#\n# Figure for fMRI data sample we have\n#\nverbose(1, \"Load sample fMRI dataset\")\ndataset = load_example_fmri_dataset()\n# select random voxel\ndataset = dataset[:, int(np.random.uniform()*dataset.nfeatures)]\n\nverbose(2, \"Minimal preprocessing to remove the bias per each voxel\")\npoly_detrend(dataset, chunks_attr='chunks', polyord=1)\nzscore(dataset, chunks_attr='chunks', param_est=('targets', ['0']),\n       dtype='float32')\n\n# on all voxels at once, just for the sake of visualization\ndata = dataset.samples.ravel()\nverbose(2, \"Find matching distribution\")\nmatches = match_distribution(data, test=test, p=0.05)\n\npl.figure(figsize=figsize)\npl.subplot(2, 1, 1)\nplot_distribution_matches(data, matches, legend=1, nbest=5)\npl.title('Random voxel: 5 best distributions')\n\npl.subplot(2, 1, 2)\nplot_distribution_matches(data, matches, nbest=5, p=0.05,\n                        tail='any', legend=4)\npl.title('Accept regions for two-tailed test')\nreport.figure()"
          ], 
          "language": "python", 
          "metadata": {}, 
          "outputs": []
        }, 
        {
          "cell_type": "markdown", 
          "metadata": {}, 
          "source": [
            "\n\n", 
            "Example output for a random voxel is\n\n\\[Visit [http://pymvpa.org/examples/match_distribution.html](http://pymvpa.org/examples/match_distribution.html) to view this figure\\]"
          ]
        }
      ], 
      "metadata": {}
    }
  ]
}