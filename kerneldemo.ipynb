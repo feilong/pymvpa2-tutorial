{
  "metadata": {
    "name": "Kernel-Demo"
  }, 
  "nbformat": 3, 
  "nbformat_minor": 0, 
  "worksheets": [
    {
      "cells": [
        {
          "cell_type": "heading", 
          "level": 1, 
          "metadata": {}, 
          "source": [
            "Kernel-Demo"
          ]
        }, 
        {
          "cell_type": "markdown", 
          "metadata": {}, 
          "source": [
            "\n\n", 
            "This is an example demonstrating various kernel implementation in PyMVPA."
          ]
        }, 
        {
          "cell_type": "code", 
          "collapsed": false, 
          "input": [
            "import numpy as np\nfrom mvpa2.support.pylab import pl\n\n#from mvpa2.suite import *\nfrom mvpa2.base import cfg\nfrom mvpa2.kernels.np import *\n\n\n# np.random.seed(1)\ndata = np.random.rand(4, 2)\n\nfor kernel_class, kernel_args in (\n    (ConstantKernel, {'sigma_0':1.0}),\n    (ConstantKernel, {'sigma_0':1.0}),\n    (GeneralizedLinearKernel, {'Sigma_p':np.eye(data.shape[1])}),\n    (GeneralizedLinearKernel, {'Sigma_p':np.ones(data.shape[1])}),\n    (GeneralizedLinearKernel, {'Sigma_p':2.0}),\n    (GeneralizedLinearKernel, {}),\n    (ExponentialKernel, {}),\n    (SquaredExponentialKernel, {}),\n    (Matern_3_2Kernel, {}),\n    (Matern_5_2Kernel, {}),\n    (RationalQuadraticKernel, {}),\n    ):\n    kernel = kernel_class(**kernel_args)\n    print kernel\n    result = kernel.compute(data)\n\n# In the following we draw some 2D functions at random from the\n# distribution N(O,kernel) defined by each available kernel and\n# plot them. These plots shows the flexibility of a given kernel\n# (with default parameters) when doing interpolation. The choice\n# of a kernel defines a prior probability over the function space\n# used for regression/classfication with GPR/GPC.\ncount = 1\nfor k in kernel_dictionary.keys():\n    pl.subplot(3, 4, count)\n    # X = np.random.rand(size)*12.0-6.0\n    # X.sort()\n    X = np.arange(-1, 1, .02)\n    X = X[:, np.newaxis]\n    ker = kernel_dictionary[k]()\n    ker.compute(X, X)\n    print k\n    K = np.asarray(ker)\n    for i in range(10):\n        f = np.random.multivariate_normal(np.zeros(X.shape[0]), K)\n        pl.plot(X[:, 0], f, \"b-\")\n\n    pl.title(k)\n    pl.axis('tight')\n    count += 1"
          ], 
          "language": "python", 
          "metadata": {}, 
          "outputs": []
        }
      ], 
      "metadata": {}
    }
  ]
}