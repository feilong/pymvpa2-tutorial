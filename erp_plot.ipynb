{
  "metadata": {
    "name": "ERP/ERF-Plots"
  }, 
  "nbformat": 3, 
  "nbformat_minor": 0, 
  "worksheets": [
    {
      "cells": [
        {
          "cell_type": "heading", 
          "level": 1, 
          "metadata": {}, 
          "source": [
            "ERP/ERF-Plots"
          ]
        }, 
        {
          "cell_type": "markdown", 
          "metadata": {}, 
          "source": [
            "\n\n", 
            "Example demonstrating an ERP-style plots. Actually, this code can be used to\nplot various time-locked data types. This example uses MEG data and therefore\ngenerates an ERF-plot."
          ]
        }, 
        {
          "cell_type": "code", 
          "collapsed": false, 
          "input": [
            "from mvpa2.suite import *\n\n# load data\nmeg = TuebingenMEG(os.path.join(pymvpa_dataroot, 'tueb_meg.dat.gz'))\n\n\n# Define plots for easy feeding into plot_erp\nplots = []\ncolors = ['r', 'b', 'g']\n\n# figure out pre-stimulus onset interval\nt0 = -meg.timepoints[0]\n\nplots = [ {'label' : meg.channelids[i],\n           'color' : colors[i],\n           'data' : meg.data[:, i, :]}\n          for i in xrange(len(meg.channelids)) ]\n\n# Common arguments for all plots\ncargs = {\n    'SR' : meg.samplingrate,\n    'pre_onset' : t0,\n    # Plot only 50ms before and 100ms after the onset since we have\n    # just few trials\n    'pre' : 0.05, 'post' : 0.1,\n    # Plot all 'errors' in different degrees of shadings\n    'errtype' : ['ste', 'ci95', 'std'],\n    # Set to None if legend manages to obscure the plot\n    'legend' : 'best',\n    'alinewidth' : 1  # assume that we like thin lines\n    }\n\n# Create a new figure\nfig = pl.figure(figsize=(12, 8))\n\n# Following plots are plotted inverted (negative up) for the\n# demonstration of this capability and elderly convention for ERP\n# plots. That is controlled with ymult (negative gives negative up)\n\n\n# Plot MEG sensors\n\n# frame_on=False guarantees abent outside rectangular axis with\n# labels. plot_erp recreates its own axes centered at (0,0)\nax = fig.add_subplot(2, 1, 1, frame_on=False)\nplot_erps(plots[:2], ylabel='$pT$', ymult=-1e12, ax=ax, **cargs)\n\n# Plot EEG sensor\nax = fig.add_subplot(2, 1, 2, frame_on=False)\nplot_erps(plots[2:3], ax=ax, ymult=-1e6, **cargs)\n\n# Additional example: plotting a single ERP on an existing plot\n# without drawing axis:\n#\n# plot_erp(data=meg.data[:, 0, :], SR=meg.samplingrate, pre=pre,\n#         pre_mean=pre, errtype=errtype, ymult=-1.0)"
          ], 
          "language": "python", 
          "metadata": {}, 
          "outputs": []
        }, 
        {
          "cell_type": "markdown", 
          "metadata": {}, 
          "source": [
            "\n\n", 
            "The ouput of the provided example is presented below. It is not a very\nfascinating one due to the limited number of samples provided in the\ndataset shipped within the toolbox.\n\n\\[Visit [http://pymvpa.org/examples/erp_plot.html](http://pymvpa.org/examples/erp_plot.html) to view this figure\\]"
          ]
        }
      ], 
      "metadata": {}
    }
  ]
}