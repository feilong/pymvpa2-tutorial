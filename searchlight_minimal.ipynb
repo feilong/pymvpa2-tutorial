{
  "metadata": {
    "name": "Minimal Searchlight Example"
  }, 
  "nbformat": 3, 
  "nbformat_minor": 0, 
  "worksheets": [
    {
      "cells": [
        {
          "cell_type": "heading", 
          "level": 1, 
          "metadata": {}, 
          "source": [
            "Minimal Searchlight Example"
          ]
        }, 
        {
          "cell_type": "markdown", 
          "metadata": {}, 
          "source": [
            "\n\n", 
            "The term ", 
            "[Searchlight](http://pymvpa.org/generated/mvpa2.measures.searchlight.Searchlight.html#mvpa2-measures-searchlight-searchlight) refers to an\nalgorithm that runs a scalar ", 
            "[Measure](http://pymvpa.org/generated/mvpa2.measures.base.Measure.html#mvpa2-measures-base-measure) on\nall possible spheres of a certain size within a dataset (that provides\ninformation about distances between feature locations).  The measure\ntypically computed is a cross-validation of a classifier performance\n(see ", 
            "*CrossValidation* section in\nthe tutorial). The idea to use a searchlight as a sensitivity analyzer\non fMRI datasets stems from ", 
            "*Kriegeskorte et al. (2006)*.\n\n", 
            "A searchlight analysis is can be easily performed. This examples shows a minimal\ndraft of a complete analysis.\n\n", 
            "First import a necessary pieces of PyMVPA -- this time each bit individually."
          ]
        }, 
        {
          "cell_type": "code", 
          "collapsed": false, 
          "input": [
            "import numpy as np\n\nfrom mvpa2.generators.partition import OddEvenPartitioner\nfrom mvpa2.clfs.svm import LinearCSVMC\nfrom mvpa2.measures.base import CrossValidation\nfrom mvpa2.measures.searchlight import sphere_searchlight\nfrom mvpa2.testing.datasets import datasets\nfrom mvpa2.mappers.fx import mean_sample"
          ], 
          "language": "python", 
          "metadata": {}, 
          "outputs": []
        }, 
        {
          "cell_type": "markdown", 
          "metadata": {}, 
          "source": [
            "\n\n", 
            "For the sake of simplicity, let's use a small artificial dataset."
          ]
        }, 
        {
          "cell_type": "code", 
          "collapsed": false, 
          "input": [
            "# Lets just use our tiny 4D dataset from testing battery\ndataset = datasets['3dlarge']"
          ], 
          "language": "python", 
          "metadata": {}, 
          "outputs": []
        }, 
        {
          "cell_type": "markdown", 
          "metadata": {}, 
          "source": [
            "\n\n", 
            "Now it only takes three lines for a searchlight analysis."
          ]
        }, 
        {
          "cell_type": "code", 
          "collapsed": false, 
          "input": [
            "# setup measure to be computed in each sphere (cross-validated\n# generalization error on odd/even splits)\ncv = CrossValidation(LinearCSVMC(), OddEvenPartitioner())\n\n# setup searchlight with 2 voxels radius and measure configured above\nsl = sphere_searchlight(cv, radius=2, space='myspace',\n                        postproc=mean_sample())\n\n# run searchlight on dataset\nsl_map = sl(dataset)\n\nprint 'Best performing sphere error:', np.min(sl_map.samples)"
          ], 
          "language": "python", 
          "metadata": {}, 
          "outputs": []
        }, 
        {
          "cell_type": "markdown", 
          "metadata": {}, 
          "source": [
            "\n\n", 
            "If this analysis is done on a fMRI dataset using ", 
            "`NiftiDataset` the resulting\nsearchlight map (", 
            "`sl_map`) can be mapped back into the original dataspace\nand viewed as a brain overlay. ", 
            "*Another example*\nshows a typical application of this algorithm."
          ]
        }
      ], 
      "metadata": {}
    }
  ]
}