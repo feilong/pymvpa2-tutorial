{
  "metadata": {
    "name": "Classification of SVD-mapped Datasets"
  }, 
  "nbformat": 3, 
  "nbformat_minor": 0, 
  "worksheets": [
    {
      "cells": [
        {
          "cell_type": "heading", 
          "level": 1, 
          "metadata": {}, 
          "source": [
            "Classification of SVD-mapped Datasets"
          ]
        }, 
        {
          "cell_type": "markdown", 
          "metadata": {}, 
          "source": [
            "\n\n", 
            "Demonstrate the usage of a dataset mapper performing data projection\nonto singular value components within a cross-validation -- for ", 
            "*any*\nclassifier."
          ]
        }, 
        {
          "cell_type": "code", 
          "collapsed": false, 
          "input": [
            "from mvpa2.suite import *\n\nif __debug__:\n    debug.active += [\"REPM\"]\n\n#\n# load PyMVPA example dataset\n#\ndataset = load_example_fmri_dataset(literal=True)\n\n#\n# preprocessing\n#\n\n# do chunkswise linear detrending on dataset\npoly_detrend(dataset, polyord=1, chunks_attr='chunks')\n\n# only use 'rest', 'cats' and 'scissors' samples from dataset\ndataset = dataset[np.array([ l in ['rest', 'cat', 'scissors']\n                    for l in dataset.targets], dtype='bool')]\n\n# zscore dataset relative to baseline ('rest') mean\nzscore(dataset, chunks_attr='chunks', param_est=('targets', ['rest']), dtype='float32')\n\n# remove baseline samples from dataset for final analysis\ndataset = dataset[dataset.sa.targets != 'rest']\n\n# Specify the class of a base classifier to be used\nClf = LinearCSVMC\n# And create the instance of SVDMapper to be reused\nsvdmapper = SVDMapper()"
          ], 
          "language": "python", 
          "metadata": {}, 
          "outputs": []
        }, 
        {
          "cell_type": "markdown", 
          "metadata": {}, 
          "source": [
            "\n\n", 
            "Lets create a generator of a ", 
            "`ChainMapper` which would first perform\nSVD and then subselect the desired range of components."
          ]
        }, 
        {
          "cell_type": "code", 
          "collapsed": false, 
          "input": [
            "get_SVD_sliced = lambda x: ChainMapper([svdmapper,\n                                        StaticFeatureSelection(x)])"
          ], 
          "language": "python", 
          "metadata": {}, 
          "outputs": []
        }, 
        {
          "cell_type": "markdown", 
          "metadata": {}, 
          "source": [
            "\n\n", 
            "Now we can define a list of some classifiers: a simple one and several\nclassifiers with built-in SVD transformation and selection of\ncorresponding SVD subspaces"
          ]
        }, 
        {
          "cell_type": "code", 
          "collapsed": false, 
          "input": [
            "clfs = [('All orig.\\nfeatures (%i)' % dataset.nfeatures, Clf()),\n        ('All Comps\\n(%i)' % (dataset.nsamples \\\n                 - (dataset.nsamples / len(dataset.UC)),),\n                        MappedClassifier(Clf(), svdmapper)),\n        ('First 5\\nComp.', MappedClassifier(Clf(),\n                        get_SVD_sliced(slice(0, 5)))),\n        ('First 30\\nComp.', MappedClassifier(Clf(),\n                        get_SVD_sliced(slice(0, 30)))),\n        ('Comp.\\n6-30', MappedClassifier(Clf(),\n                        get_SVD_sliced(slice(5, 30))))]\n\n\n# run and visualize in barplot\nresults = []\nlabels = []\n\nfor desc, clf in clfs:\n    print desc.replace('\\n', ' ')\n    cv = CrossValidation(clf, NFoldPartitioner())\n    res = cv(dataset)\n    # there is only one 'feature' i.e. the error in the returned\n    # dataset\n    results.append(res.samples[:,0])\n    labels.append(desc)\n\nplot_bars(results, labels=labels,\n         title='Linear C-SVM classification (cats vs. scissors)',\n         ylabel='Mean classification error (N-1 cross-validation, 12-fold)',\n         distance=0.5)"
          ], 
          "language": "python", 
          "metadata": {}, 
          "outputs": []
        }, 
        {
          "cell_type": "markdown", 
          "metadata": {}, 
          "source": [
            "\n\n", 
            "Output of the example analysis:\n\n\\[Visit [http://pymvpa.org/examples/svdclf.html](http://pymvpa.org/examples/svdclf.html) to view this figure\\]"
          ]
        }
      ], 
      "metadata": {}
    }
  ]
}