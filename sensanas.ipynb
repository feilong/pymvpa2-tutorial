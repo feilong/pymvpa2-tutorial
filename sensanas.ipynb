{
  "metadata": {
    "name": "Sensitivity Measure"
  }, 
  "nbformat": 3, 
  "nbformat_minor": 0, 
  "worksheets": [
    {
      "cells": [
        {
          "cell_type": "heading", 
          "level": 1, 
          "metadata": {}, 
          "source": [
            "Sensitivity Measure"
          ]
        }, 
        {
          "cell_type": "markdown", 
          "metadata": {}, 
          "source": [
            "\n\n", 
            "Run some basic and meta sensitivity measures on the example fMRI dataset that\ncomes with PyMVPA and plot the computed featurewise measures for each.  The\ngenerated figure shows sensitivity maps computed by six sensitivity analyzers.\n\n", 
            "We start by loading PyMVPA and the example fMRI dataset."
          ]
        }, 
        {
          "cell_type": "code", 
          "collapsed": false, 
          "input": [
            "from mvpa2.suite import *\n\n# load PyMVPA example dataset with literal labels\ndataset = load_example_fmri_dataset(literal=True)\nprint dataset.a"
          ], 
          "language": "python", 
          "metadata": {}, 
          "outputs": []
        }, 
        {
          "cell_type": "markdown", 
          "metadata": {}, 
          "source": [
            "\n\n", 
            "As with classifiers it is easy to define a bunch of sensitivity\nanalyzers. It is usually possible to simply call ", 
            "`get_sensitivity_analyzer()`\non any classifier to get an instance of an appropriate sensitivity analyzer\nthat uses this particular classifier to compute and extract sensitivity scores."
          ]
        }, 
        {
          "cell_type": "code", 
          "collapsed": false, 
          "input": [
            "# define sensitivity analyzer\nsensanas = {\n    'a) ANOVA': OneWayAnova(postproc=absolute_features()),\n    'b) Linear SVM weights': LinearNuSVMC().get_sensitivity_analyzer(\n                                               postproc=absolute_features()),\n    'c) I-RELIEF': IterativeRelief(postproc=absolute_features()),\n    'd) Splitting ANOVA (odd-even)':\n        RepeatedMeasure(\n            OneWayAnova(postproc=absolute_features()),\n            OddEvenPartitioner()),\n    'e) Splitting SVM (odd-even)':\n        RepeatedMeasure(\n            LinearNuSVMC().get_sensitivity_analyzer(postproc=absolute_features()),\n            OddEvenPartitioner()),\n    'f) I-RELIEF Online':\n        IterativeReliefOnline(postproc=absolute_features()),\n    'g) Splitting ANOVA (nfold)':\n        RepeatedMeasure(\n            OneWayAnova(postproc=absolute_features()),\n            NFoldPartitioner()),\n    'h) Splitting SVM (nfold)':\n        RepeatedMeasure(\n            LinearNuSVMC().get_sensitivity_analyzer(postproc=absolute_features()),\n            NFoldPartitioner()),\n    'i) GNB Searchlight':\n        sphere_gnbsearchlight(GNB(), NFoldPartitioner(cvtype=1),\n                              radius=0, errorfx=mean_match_accuracy)\n           }"
          ], 
          "language": "python", 
          "metadata": {}, 
          "outputs": []
        }, 
        {
          "cell_type": "markdown", 
          "metadata": {}, 
          "source": [
            "\n\n", 
            "Now, we are performing some a more or less standard preprocessing steps:\ndetrending, selecting a subset of the experimental conditions, normalization\nof each feature to a standard mean and variance."
          ]
        }, 
        {
          "cell_type": "code", 
          "collapsed": false, 
          "input": [
            "# do chunkswise linear detrending on dataset\npoly_detrend(dataset, polyord=1, chunks_attr='chunks')\n\n# only use 'rest', 'shoe' and 'bottle' samples from dataset\ndataset = dataset[np.array([l in ['rest', 'shoe', 'bottle']\n                    for l in dataset.sa.targets], dtype='bool')]\n\n# zscore dataset relative to baseline ('rest') mean\nzscore(dataset, chunks_attr='chunks',\n       param_est=('targets', ['rest']), dtype='float32')\n\n# remove baseline samples from dataset for final analysis\ndataset = dataset[dataset.sa.targets != 'rest']"
          ], 
          "language": "python", 
          "metadata": {}, 
          "outputs": []
        }, 
        {
          "cell_type": "markdown", 
          "metadata": {}, 
          "source": [
            "\n\n", 
            "Finally, we will loop over all defined analyzers and let them compute\nthe sensitivity scores. The resulting vectors are then mapped back into the\ndataspace of the original fMRI samples, which are then plotted."
          ]
        }, 
        {
          "cell_type": "code", 
          "collapsed": false, 
          "input": [
            "fig = 0\npl.figure(figsize=(14, 8))\n\nkeys = sensanas.keys()\nkeys.sort()\n\nfor s in keys:\n    # tell which one we are doing\n    print \"Running %s ...\" % (s)\n\n    sana = sensanas[s]\n    # compute sensitivies\n    sens = sana(dataset)\n    # I-RELIEF assigns zeros, which corrupts voxel masking for pylab's\n    # imshow, so adding some epsilon :)\n    smap = sens.samples[0] + 0.00001\n\n    # map sensitivity map into original dataspace\n    orig_smap = dataset.mapper.reverse1(smap)\n    masked_orig_smap = np.ma.masked_array(orig_smap, mask=orig_smap == 0)\n\n    # make a new subplot for each classifier\n    fig += 1\n    pl.subplot(3, 3, fig)\n\n    pl.title(s)\n\n    pl.imshow(masked_orig_smap[..., 0].T,\n             interpolation='nearest',\n             aspect=1.25,\n             cmap=pl.cm.autumn)\n\n    # uniform scaling per base sensitivity analyzer\n    ## if s.count('ANOVA'):\n    ##     pl.clim(0, 30)\n    ## elif s.count('SVM'):\n    ##     pl.clim(0, 0.055)\n    ## else:\n    ##     pass\n\n    pl.colorbar(shrink=0.6)"
          ], 
          "language": "python", 
          "metadata": {}, 
          "outputs": []
        }, 
        {
          "cell_type": "markdown", 
          "metadata": {}, 
          "source": [
            "\n\n", 
            "Output of the example analysis:\n\n\\[Visit [http://pymvpa.org/examples/sensanas.html](http://pymvpa.org/examples/sensanas.html) to view this figure\\]"
          ]
        }
      ], 
      "metadata": {}
    }
  ]
}