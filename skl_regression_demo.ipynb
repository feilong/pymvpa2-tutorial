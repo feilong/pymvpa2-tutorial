{
  "metadata": {
    "name": "Using scikit-learn regressions with PyMVPA"
  }, 
  "nbformat": 3, 
  "nbformat_minor": 0, 
  "worksheets": [
    {
      "cells": [
        {
          "cell_type": "heading", 
          "level": 1, 
          "metadata": {}, 
          "source": [
            "Using scikit-learn regressions with PyMVPA"
          ]
        }, 
        {
          "cell_type": "markdown", 
          "metadata": {}, 
          "source": [
            "\n\n", 
            "This is practically part two of the example on ", 
            "`using scikit-learn classifiers\nwith PyMVPA <example_skl_classifier_demo>`. Just like classifiers,\nimplementations of regression algorithms in scikit-learn use the\n", 
            "[estimator and predictor API](http://scikit-learn.org/stable/developers/#apis-of-scikit-learn-objects). Consequently, the same wrapper class\n(", 
            "[SKLLearnerAdapter](http://pymvpa.org/generated/mvpa2.clfs.skl.base.SKLLearnerAdapter.html#mvpa2-clfs-skl-base-skllearneradapter)) as before is applicable\nwhen using scikit-learn regressions in PyMVPA.\n\n", 
            "The example demonstrates this by mimicking the \"", 
            "[Decision Tree Regression](http://scikit-learn.org/stable/auto_examples/tree/plot_tree_regression.html)\"\nexample from the scikit-learn documentation -- applying the minimal\nmodifications necessary to the scikit-learn decision tree regression algorithm\n(with two different parameter settings) implementation on a PyMVPA dataset."
          ]
        }, 
        {
          "cell_type": "code", 
          "collapsed": false, 
          "input": [
            "print(__doc__)\n\nimport numpy as np\nfrom sklearn.tree import DecisionTreeRegressor\n\nrng = np.random.RandomState(1)\nX = np.sort(5 * rng.rand(80, 1), axis=0)\ny = np.sin(X).ravel()\ny[::5] += 3 * (0.5 - rng.rand(16))"
          ], 
          "language": "python", 
          "metadata": {}, 
          "outputs": []
        }, 
        {
          "cell_type": "markdown", 
          "metadata": {}, 
          "source": [
            "\n\n", 
            "So far the code has been identical. The first difference is the import of the\nadaptor class. We also use a convenient way to convert the data into a proper\n", 
            "[Dataset](http://pymvpa.org/generated/mvpa2.datasets.base.Dataset.html#mvpa2-datasets-base-dataset)."
          ]
        }, 
        {
          "cell_type": "code", 
          "collapsed": false, 
          "input": [
            "# this first import is only required to run the example a part of the test suite\nfrom mvpa2 import cfg\nfrom mvpa2.clfs.skl.base import SKLLearnerAdapter\nfrom mvpa2.datasets import dataset_wizard\nds_train=dataset_wizard(samples=X, targets=y)"
          ], 
          "language": "python", 
          "metadata": {}, 
          "outputs": []
        }, 
        {
          "cell_type": "markdown", 
          "metadata": {}, 
          "source": [
            "\n\n", 
            "The following lines are an example of the only significant modification\nwith respect to a pure scikit-learn implementation: the regression is\nwrapped into the adaptor. The result is a PyMVPA learner, hence can\nbe called with a dataset that contains both samples and targets."
          ]
        }, 
        {
          "cell_type": "code", 
          "collapsed": false, 
          "input": [
            "clf_1 = SKLLearnerAdapter(DecisionTreeRegressor(max_depth=2))\nclf_2 = SKLLearnerAdapter(DecisionTreeRegressor(max_depth=5))\n\nclf_1.train(ds_train)\nclf_2.train(ds_train)\n\nX_test = np.arange(0.0, 5.0, 0.01)[:, np.newaxis]\ny_1 = clf_1.predict(X_test)\ny_2 = clf_2.predict(X_test)\n\n\n# plot the results\n# which clearly show the overfitting for the second depth setting\nimport pylab as pl\n\npl.figure()\npl.scatter(X, y, c=\"k\", label=\"data\")\npl.plot(X_test, y_1, c=\"g\", label=\"max_depth=2\", linewidth=2)\npl.plot(X_test, y_2, c=\"r\", label=\"max_depth=5\", linewidth=2)\npl.xlabel(\"data\")\npl.ylabel(\"target\")\npl.title(\"Decision Tree Regression\")\npl.legend()"
          ], 
          "language": "python", 
          "metadata": {}, 
          "outputs": []
        }
      ], 
      "metadata": {}
    }
  ]
}