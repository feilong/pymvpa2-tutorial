{
  "metadata": {
    "name": "A simple start"
  }, 
  "nbformat": 3, 
  "nbformat_minor": 0, 
  "worksheets": [
    {
      "cells": [
        {
          "cell_type": "heading", 
          "level": 1, 
          "metadata": {}, 
          "source": [
            "A simple start"
          ]
        }, 
        {
          "cell_type": "markdown", 
          "metadata": {}, 
          "source": [
            "\n\n", 
            "Here we show how to perform a simple cross-validated classification analysis\nwith PyMVPA. This script is the exact equivalent of the\n", 
            "*example_cmdline_start_easy* example, but using the Python API instead of\nthe command line interface.\n\n", 
            "First, we import the PyMVPA suite to enable all PyMVPA building blocks"
          ]
        }, 
        {
          "cell_type": "code", 
          "collapsed": false, 
          "input": [
            "from mvpa2.suite import *"
          ], 
          "language": "python", 
          "metadata": {}, 
          "outputs": []
        }, 
        {
          "cell_type": "markdown", 
          "metadata": {}, 
          "source": [
            "\n\n", 
            "Now we load an example fMRI dataset that comes with PyMVPA. It has some\nattributes associated with each volume, and is masked to exclude voxels\noutside of the brain."
          ]
        }, 
        {
          "cell_type": "code", 
          "collapsed": false, 
          "input": [
            "# load PyMVPA example dataset with literal labels\ndataset = load_example_fmri_dataset(literal=True)"
          ], 
          "language": "python", 
          "metadata": {}, 
          "outputs": []
        }, 
        {
          "cell_type": "markdown", 
          "metadata": {}, 
          "source": [
            "\n\n", 
            "Next we remove linear trends by polynomial regression for each voxel and\neach chunk (recording run) of the dataset individually."
          ]
        }, 
        {
          "cell_type": "code", 
          "collapsed": false, 
          "input": [
            "poly_detrend(dataset, polyord=1, chunks_attr='chunks')"
          ], 
          "language": "python", 
          "metadata": {}, 
          "outputs": []
        }, 
        {
          "cell_type": "markdown", 
          "metadata": {}, 
          "source": [
            "\n\n", 
            "For this example we are only interested in data samples that correspond\nto the `face` or to the `house` condition."
          ]
        }, 
        {
          "cell_type": "code", 
          "collapsed": false, 
          "input": [
            "dataset = dataset[np.array([l in ['face', 'house'] for l in dataset.sa.targets],\n                          dtype='bool')]"
          ], 
          "language": "python", 
          "metadata": {}, 
          "outputs": []
        }, 
        {
          "cell_type": "markdown", 
          "metadata": {}, 
          "source": [
            "\n\n", 
            "The setup for our cross-validation analysis include the selection of a\nclassifier, and a partitioning scheme, and an error function\nto convert literal predictions into a quantitative performance metric."
          ]
        }, 
        {
          "cell_type": "code", 
          "collapsed": false, 
          "input": [
            "cv = CrossValidation(SMLR(), OddEvenPartitioner(), errorfx=mean_mismatch_error)\nerror = cv(dataset)"
          ], 
          "language": "python", 
          "metadata": {}, 
          "outputs": []
        }, 
        {
          "cell_type": "markdown", 
          "metadata": {}, 
          "source": [
            "\n\n", 
            "The resulting dataset contains the computed accuracy."
          ]
        }, 
        {
          "cell_type": "code", 
          "collapsed": false, 
          "input": [
            "# UC: unique chunks, UT: unique targets\nprint \"Error for %i-fold cross-validation on %i-class problem: %f\" \\\n      % (len(dataset.UC), len(dataset.UT), np.mean(error))"
          ], 
          "language": "python", 
          "metadata": {}, 
          "outputs": []
        }
      ], 
      "metadata": {}
    }
  ]
}