{
  "metadata": {
    "name": "kNN -- Model Flexibility in Pictures"
  }, 
  "nbformat": 3, 
  "nbformat_minor": 0, 
  "worksheets": [
    {
      "cells": [
        {
          "cell_type": "heading", 
          "level": 1, 
          "metadata": {}, 
          "source": [
            "kNN -- Model Flexibility in Pictures"
          ]
        }, 
        {
          "cell_type": "markdown", 
          "metadata": {}, 
          "source": [
            "\n\n", 
            "TODO"
          ]
        }, 
        {
          "cell_type": "code", 
          "collapsed": false, 
          "input": [
            "import numpy as np"
          ], 
          "language": "python", 
          "metadata": {}, 
          "outputs": []
        }, 
        {
          "cell_type": "code", 
          "collapsed": false, 
          "input": [
            "import mvpa2\nfrom mvpa2.base import cfg\nfrom mvpa2.misc.data_generators import *\nfrom mvpa2.clfs.knn import kNN\nfrom mvpa2.misc.plot import *\n\nmvpa2.seed(0)                            # to reproduce the plot\n\ndataset_kwargs = dict(nfeatures=2, nchunks=10,\n    snr=2, nlabels=4, means=[ [0,1], [1,0], [1,1], [0,0] ])\n\ndataset_train = normal_feature_dataset(**dataset_kwargs)\ndataset_plot = normal_feature_dataset(**dataset_kwargs)\n\n\n# make a new figure\npl.figure(figsize=(9, 9))\n\nfor i,k in enumerate((1, 3, 9, 20)):\n    knn = kNN(k)\n\n    print \"Processing kNN(%i) problem...\" % k\n    pl.subplot(2, 2, i+1)"
          ], 
          "language": "python", 
          "metadata": {}, 
          "outputs": []
        }, 
        {
          "cell_type": "code", 
          "collapsed": false, 
          "input": [
            "\u00bb    knn.train(dataset_train)\n\n     plot_decision_boundary_2d(\n         dataset_plot, clf=knn, maps='targets')"
          ], 
          "language": "python", 
          "metadata": {}, 
          "outputs": []
        }
      ], 
      "metadata": {}
    }
  ]
}