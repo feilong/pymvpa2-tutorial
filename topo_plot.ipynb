{
  "metadata": {
    "name": "Generating Topography plots"
  }, 
  "nbformat": 3, 
  "nbformat_minor": 0, 
  "worksheets": [
    {
      "cells": [
        {
          "cell_type": "heading", 
          "level": 1, 
          "metadata": {}, 
          "source": [
            "Generating Topography plots"
          ]
        }, 
        {
          "cell_type": "markdown", 
          "metadata": {}, 
          "source": [
            "\n\n", 
            "Example demonstrating a topography plot."
          ]
        }, 
        {
          "cell_type": "code", 
          "collapsed": false, 
          "input": [
            "from mvpa2.suite import *\n\n# Sanity check if we have griddata available\nexternals.exists(\"griddata\", raise_=True)\n\n# EEG example splot\npl.subplot(1, 2, 1)\n\n# load the sensor information from their definition file.\n# This file has sensor names, as well as their 3D coordinates\nsensors=XAVRSensorLocations(os.path.join(pymvpa_dataroot, 'xavr1010.dat'))\n\n# make up some artifical topography\n# 'enable' to channels, all others set to off ;-)\ntopo = np.zeros(len(sensors.names))\ntopo[sensors.names.index('O1')] = 1\ntopo[sensors.names.index('F4')] = 1\n\n# plot with sensor locations shown\nplot_head_topography(topo, sensors.locations(), plotsensors=True)\n\n\n# MEG example plot\npl.subplot(1, 2, 2)\n\n# load MEG sensor locations\nsensors=TuebingenMEGSensorLocations(\n            os.path.join(pymvpa_dataroot, 'tueb_meg_coord.xyz'))\n\n# random values this time\ntopo = np.random.randn(len(sensors.names))\n\n# plot without additional interpolation\nplot_head_topography(topo, sensors.locations(),\n                   interpolation='nearest')"
          ], 
          "language": "python", 
          "metadata": {}, 
          "outputs": []
        }, 
        {
          "cell_type": "markdown", 
          "metadata": {}, 
          "source": [
            "\n\n", 
            "The ouput of the provided example should look like\n\n\\[Visit [http://pymvpa.org/examples/topo_plot.html](http://pymvpa.org/examples/topo_plot.html) to view this figure\\]"
          ]
        }
      ], 
      "metadata": {}
    }
  ]
}