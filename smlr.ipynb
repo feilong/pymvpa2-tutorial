{
  "metadata": {
    "name": "Compare SMLR to Linear SVM Classifier"
  }, 
  "nbformat": 3, 
  "nbformat_minor": 0, 
  "worksheets": [
    {
      "cells": [
        {
          "cell_type": "heading", 
          "level": 1, 
          "metadata": {}, 
          "source": [
            "Compare SMLR to Linear SVM Classifier"
          ]
        }, 
        {
          "cell_type": "markdown", 
          "metadata": {}, 
          "source": [
            "\n\n", 
            "Runs both classifiers on the the same dataset and compare their performance.\nThis example also shows an example usage of confusion matrices and how two\nclassifers can be combined."
          ]
        }, 
        {
          "cell_type": "code", 
          "collapsed": false, 
          "input": [
            "from mvpa2.suite import *\n\nif __debug__:\n    debug.active.append('SMLR_')\n\n# features of sample data\nprint \"Generating samples...\"\nnfeat = 10000\nnsamp = 100\nntrain = 90\ngoodfeat = 10\noffset = .5\n\n# create the sample datasets\nsamp1 = np.random.randn(nsamp,nfeat)\nsamp1[:,:goodfeat] += offset\n\nsamp2 = np.random.randn(nsamp,nfeat)\nsamp2[:,:goodfeat] -= offset\n\n# create the pymvpa training dataset from the labeled features\npatternsPos = dataset_wizard(samples=samp1[:ntrain,:], targets=1)\npatternsNeg = dataset_wizard(samples=samp2[:ntrain,:], targets=0)\ntrainpat = vstack((patternsPos, patternsNeg))\n\n# create patters for the testing dataset\npatternsPos = dataset_wizard(samples=samp1[ntrain:,:], targets=1)\npatternsNeg = dataset_wizard(samples=samp2[ntrain:,:], targets=0)\ntestpat = vstack((patternsPos, patternsNeg))\n\n# set up the SMLR classifier\nprint \"Evaluating SMLR classifier...\"\nsmlr = SMLR(fit_all_weights=True)\n\n# enable saving of the estimates used for the prediction\nsmlr.ca.enable('estimates')\n\n# train with the known points\nsmlr.train(trainpat)\n\n# run the predictions on the test values\npre = smlr.predict(testpat.samples)\n\n# calculate the confusion matrix\nsmlr_confusion = ConfusionMatrix(\n    labels=trainpat.UT, targets=testpat.targets,\n    predictions=pre)\n\n# now do the same for a linear SVM\nprint \"Evaluating Linear SVM classifier...\"\nlsvm = LinearNuSVMC(probability=1)\n\n# enable saving of the estimates used for the prediction\nlsvm.ca.enable('estimates')\n\n# train with the known points\nlsvm.train(trainpat)\n\n# run the predictions on the test values\npre = lsvm.predict(testpat.samples)\n\n# calculate the confusion matrix\nlsvm_confusion = ConfusionMatrix(\n    labels=trainpat.UT, targets=testpat.targets,\n    predictions=pre)\n\n# now train SVM with selected features\nprint \"Evaluating Linear SVM classifier with SMLR's features...\"\n\nkeepInd = (np.abs(smlr.weights).mean(axis=1)!=0)\nnewtrainpat = trainpat[:, keepInd]\nnewtestpat = testpat[:, keepInd]\n\n# train with the known points\nlsvm.train(newtrainpat)\n\n# run the predictions on the test values\npre = lsvm.predict(newtestpat.samples)\n\n# calculate the confusion matrix\nlsvm_confusion_sparse = ConfusionMatrix(\n    labels=newtrainpat.UT, targets=newtestpat.targets,\n    predictions=pre)\n\n\nprint \"SMLR Percent Correct:\\t%g%% (Retained %d/%d features)\" % \\\n    (smlr_confusion.percent_correct,\n     (smlr.weights!=0).sum(), np.prod(smlr.weights.shape))\nprint \"linear-SVM Percent Correct:\\t%g%%\" % \\\n    (lsvm_confusion.percent_correct)\nprint \"linear-SVM Percent Correct (with %d features from SMLR):\\t%g%%\" % \\\n    (keepInd.sum(), lsvm_confusion_sparse.percent_correct)"
          ], 
          "language": "python", 
          "metadata": {}, 
          "outputs": []
        }
      ], 
      "metadata": {}
    }
  ]
}