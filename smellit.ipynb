{
  "metadata": {
    "name": "Simple Data-Exploration"
  }, 
  "nbformat": 3, 
  "nbformat_minor": 0, 
  "worksheets": [
    {
      "cells": [
        {
          "cell_type": "heading", 
          "level": 1, 
          "metadata": {}, 
          "source": [
            "Simple Data-Exploration"
          ]
        }, 
        {
          "cell_type": "markdown", 
          "metadata": {}, 
          "source": [
            "\n\n", 
            "Example showing some possibilities of data exploration\n(i.e. to 'smell' data)."
          ]
        }, 
        {
          "cell_type": "code", 
          "collapsed": false, 
          "input": [
            "from mvpa2.suite import *\n\n# load example fmri dataset\nds = load_example_fmri_dataset()\n\n# only use the first 5 chunks to save some cpu-cycles\nds = ds[ds.chunks < 5]"
          ], 
          "language": "python", 
          "metadata": {}, 
          "outputs": []
        }, 
        {
          "cell_type": "markdown", 
          "metadata": {}, 
          "source": [
            "\n\n", 
            "It is always useful to have a quick look at the summary of the dataset and\nverify that statistics (mean, standard deviation) are in the expected range,\nthat there is balance among targets/chunks, and that order is balanced (where\nappropriate)."
          ]
        }, 
        {
          "cell_type": "code", 
          "collapsed": false, 
          "input": [
            "print ds.summary()"
          ], 
          "language": "python", 
          "metadata": {}, 
          "outputs": []
        }, 
        {
          "cell_type": "markdown", 
          "metadata": {}, 
          "source": [
            "\n\n", 
            "Now we can take a look at the distribution of the feature values in all\nsample categories and chunks."
          ]
        }, 
        {
          "cell_type": "code", 
          "collapsed": false, 
          "input": [
            "pl.figure(figsize=(14, 14)) # larger figure\nhist(ds, xgroup_attr='chunks', ygroup_attr='targets', noticks=None,\n     bins=20, normed=True)\n\n# next only works with floating point data\nds.samples = ds.samples.astype('float')\n\n# look at sample similarity\n# Note, the decreasing similarity with increasing temporal distance\n# of the samples\npl.figure(figsize=(14, 6))\npl.subplot(121)\nplot_samples_distance(ds, sortbyattr='chunks')\npl.title('Sample distances (sorted by chunks)')\n\n# similar distance plot, but now samples sorted by their\n# respective targets, i.e. samples with same targets are plotted\n# in adjacent columns/rows.\n# Note, that the first and largest group corresponds to the\n# 'rest' condition in the dataset\npl.subplot(122)\nplot_samples_distance(ds, sortbyattr='targets')\npl.title('Sample distances (sorted by targets)')\n\n# z-score features individually per chunk\nprint 'Detrending data'\npoly_detrend(ds, polyord=2, chunks_attr='chunks')\nprint 'Z-Scoring data'\nzscore(ds)\n\npl.figure(figsize=(14, 6))\npl.subplot(121)\nplot_samples_distance(ds, sortbyattr='chunks')\npl.title('Distances: z-scored, detrended (sorted by chunks)')\npl.subplot(122)\nplot_samples_distance(ds, sortbyattr='targets')\npl.title('Distances: z-scored, detrended (sorted by targets)');\n# XXX add some more, maybe show effect of preprocessing"
          ], 
          "language": "python", 
          "metadata": {}, 
          "outputs": []
        }, 
        {
          "cell_type": "markdown", 
          "metadata": {}, 
          "source": [
            "\n\n", 
            "Outputs of the example script. Data prior to preprocessing\n\n\\[Visit [http://pymvpa.org/examples/smellit.html](http://pymvpa.org/examples/smellit.html) to view this figure\\]\n\n", 
            "Data after minimal preprocessing\n\n\\[Visit [http://pymvpa.org/examples/smellit.html](http://pymvpa.org/examples/smellit.html) to view this figure\\]"
          ]
        }
      ], 
      "metadata": {}
    }
  ]
}