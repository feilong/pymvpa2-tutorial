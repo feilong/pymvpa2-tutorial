{
  "metadata": {
    "name": "Separating hyperplane tutorial"
  }, 
  "nbformat": 3, 
  "nbformat_minor": 0, 
  "worksheets": [
    {
      "cells": [
        {
          "cell_type": "heading", 
          "level": 1, 
          "metadata": {}, 
          "source": [
            "Separating hyperplane tutorial"
          ]
        }, 
        {
          "cell_type": "markdown", 
          "metadata": {}, 
          "source": [
            "\n\n", 
            "This is a very introductory tutorial, showing how a classification task (in\nthis case, deciding whether people are sumo wrestlers or basketball players,\nbased on their height and weight) can be viewed as drawing a decision boundary\nin a feature space. It shows how to plot the data, calculate the weights of a\nsimple linear classifier, and see how the resulting classifier carves up the\nfeature space into two categories."
          ]
        }, 
        {
          "cell_type": "markdown", 
          "metadata": {}, 
          "source": [
            "- - -\n*Note*", 
            "\n\n", 
            "This tutorial was originally written by Rajeev Raizada for Matlab and was\nported to Python by the PyMVPA authors. The original Matlab code is available\nfrom: ", 
            "http://www.dartmouth.edu/~raj/Matlab/fMRI/classification_plane_tutorial.m", 
            "- - -\n"
          ]
        }, 
        {
          "cell_type": "markdown", 
          "metadata": {}, 
          "source": [
            "\n\n", 
            "Let's look at a toy example: classifying people as either\nsumo wrestlers or basketball players, depending on their height and weight.\nLet's call the x-axis height and the y-axis weight"
          ]
        }, 
        {
          "cell_type": "code", 
          "collapsed": false, 
          "input": [
            "sumo_wrestlers_height = [ 4, 2, 2, 3, 4 ]\nsumo_wrestlers_weight = [ 8, 6, 2, 5, 7 ]\nbasketball_players_height = [ 3, 4, 5, 5, 3 ]\nbasketball_players_weight = [ 2, 5, 3, 7, 3 ]"
          ], 
          "language": "python", 
          "metadata": {}, 
          "outputs": []
        }, 
        {
          "cell_type": "markdown", 
          "metadata": {}, 
          "source": [
            "\n\n", 
            "Let's plot this."
          ]
        }, 
        {
          "cell_type": "code", 
          "collapsed": false, 
          "input": [
            "import pylab as pl\npl.plot(sumo_wrestlers_height, sumo_wrestlers_weight, 'ro',\n       linewidth=2, label=\"Sumo wrestlers\")\npl.plot(basketball_players_height, basketball_players_weight, 'bx',\n       linewidth=2, label=\"Basketball players\")\npl.xlim(0, 6)\npl.ylim(0, 10)\npl.xlabel('Height')\npl.ylabel('Weight')\npl.legend()"
          ], 
          "language": "python", 
          "metadata": {}, 
          "outputs": []
        }, 
        {
          "cell_type": "markdown", 
          "metadata": {}, 
          "source": [
            "\n\n", 
            "Let's stack up the sumo data on top of the basketball players data."
          ]
        }, 
        {
          "cell_type": "code", 
          "collapsed": false, 
          "input": [
            "import numpy as np\n\n# transpose to have observations along the first axis\nsumo_data = np.vstack((sumo_wrestlers_height,\n                      sumo_wrestlers_weight)).T\n# same for the baskball data\nbasketball_data = np.vstack((basketball_players_height,\n                            basketball_players_weight)).T\n# now stack them all together\nall_data = np.vstack((sumo_data, basketball_data))"
          ], 
          "language": "python", 
          "metadata": {}, 
          "outputs": []
        }, 
        {
          "cell_type": "markdown", 
          "metadata": {}, 
          "source": [
            "\n\n", 
            "In order to be able to train a classifier on the input vectors, we need to know\nwhat the desired output categories are for each one.  Let's set this to be ", 
            "`+1`\nfor sumo wrestlers, and ", 
            "`-1` for basketball players."
          ]
        }, 
        {
          "cell_type": "code", 
          "collapsed": false, 
          "input": [
            "# creates: [  1,  1,  1,  1,  1, -1, -1, -1, -1, -1]\nall_desired_output = np.repeat([1, -1], 5)"
          ], 
          "language": "python", 
          "metadata": {}, 
          "outputs": []
        }, 
        {
          "cell_type": "markdown", 
          "metadata": {}, 
          "source": [
            "\n\n", 
            "We want to find a linear decision boundary,\ni.e. simply a straight line, such that all the data points\non one side of the line get classified as sumo wrestlers,\ni.e. get mapped onto the desired output of ", 
            "`+1`,\nand all the data points on the other side get classified\nas basketball players, i.e. get mapped onto the desired output of ", 
            "`-1`.\n\n", 
            "The equation for a straight line has this form:\n$$\\vec{w} \\mathbf{D} - \\vec{b} = 0$$\n\n\n", 
            "were ", 
            "$vec{w}$ is a weight vector, ", 
            "$mathbf{D}$ is the data matrix,\nand ", 
            "$vec{b}$ is the offset of the dataset form the origin, or the bias.\nWe're not so interested for now in ", 
            "$vec{b}$,\nso we can get rid of that by subtracting the mean from our data to get\n", 
            "$mathbf{D_{C}}$ the per-column (i.e. variable) demeaned data that is now\ncentered around the origin."
          ]
        }, 
        {
          "cell_type": "code", 
          "collapsed": false, 
          "input": [
            "zero_meaned_data = all_data - all_data.mean(axis=0)"
          ], 
          "language": "python", 
          "metadata": {}, 
          "outputs": []
        }, 
        {
          "cell_type": "markdown", 
          "metadata": {}, 
          "source": [
            "\n\n", 
            "Now, having gotten rid of that annoying bias term,\nwe want to find a weight vector which gives us the best solution\nthat we can find to this equation:\n$$\\mathbf{D_{C}} \\vec{w} = \\vec{o}$$\n\n\n", 
            "were ", 
            "$vec{o}$ is the desired output, or the class labels.  But, there is\nno such perfect set of weights.  We can only get a best fit, such that\n$$\\mathbf{D_{C}} \\vec{w} = \\vec{o} + \\vec{e}$$\n\n\n", 
            "where the error term ", 
            "$vec{e}$ is as small as possible.\n\n", 
            "Note that our equation\n$$\\mathbf{D_{C}} \\vec{w} = \\vec{o}$$\n\n\n", 
            "has exactly the same form as the equation\nfrom the tutorial code in\n", 
            "http://www.dartmouth.edu/~raj/Matlab/fMRI/design_matrix_tutorial.m\nwhich is:\n$$\\mathbf{X} \\vec{\\beta} = \\vec{y}$$\n\n\n", 
            "where ", 
            "$mathbf{X}$ was the design matrix, ", 
            "$vec{beta}$ the\nsensitivity vector, and ", 
            "$vec{y}$ the voxel response.\n\n", 
            "The way we solve the equation is exactly the same, too.\nIf we could find a matrix-inverse of the data matrix,\nthen we could pre-multiply both sides by that inverse,\nand that would give us the weights:\n$$\\mathbf{D_{C}^{-1}} \\mathbf{D_{C}} \\vec{w} = \\mathbf{D_{C}^{-1}} \\vec{o}$$\n\n\n", 
            "The ", 
            "$mathbf{D_{C}^{-1}}$ and ", 
            "$mathbf{D_{C}}$ terms on the left\nwould cancel each other out, and we would be left with:\n$$\\vec{w} = \\mathbf{D_{C}^{-1}} \\vec{o}$$\n\n\n", 
            "However, unfortunately there will in general not exist any matrix-inverse of\nthe data matrix ", 
            "$mathbf{D_{C}}$.  Only square matrices have inverses,\nand not even all of them do.  Luckily, however, we can use something that plays\na similar role, called a pseudo-inverse. In Numpy, this is given by the command\n", 
            "`pinv`.  The pseudo-inverse won't give us a perfect solution to the above\nequation but it will give us the best approximate solution, which is what we\nwant.\n\n", 
            "So, instead of\n$$\\vec{w} = \\mathbf{D_{C}^{-1}} \\vec{o}$$\n\n\n", 
            "we have this equation:"
          ]
        }, 
        {
          "cell_type": "code", 
          "collapsed": false, 
          "input": [
            "# compute pseudo-inverse as a matrix\npinv = np.linalg.pinv(np.mat(zero_meaned_data))\n# column-vector of observations\ny = all_desired_output[np.newaxis].T\n\nweights = pinv * y"
          ], 
          "language": "python", 
          "metadata": {}, 
          "outputs": []
        }, 
        {
          "cell_type": "markdown", 
          "metadata": {}, 
          "source": [
            "\n\n", 
            "Let's have a look at how these weights carve up the input space\nA useful command for making grids of points\nwhich span a particular 2D space is called \"meshgrid\""
          ]
        }, 
        {
          "cell_type": "code", 
          "collapsed": false, 
          "input": [
            "gridspec = np.linspace(-4, 4, 20)\ninput_space_X, input_space_Y = np.meshgrid(gridspec, gridspec)\n\n# for the rest it is easier to have `weights` as a simple array, instead\n# of a matrix\nweights = weights.A\n\nweighted_output_Z = input_space_X * weights[0] + input_space_Y * weights[1]"
          ], 
          "language": "python", 
          "metadata": {}, 
          "outputs": []
        }, 
        {
          "cell_type": "markdown", 
          "metadata": {}, 
          "source": [
            "\n\n", 
            "The weighted output gets turned into the category-decision ", 
            "`+1`\nif it is greater than 0, and ", 
            "`-1` if it is less than zero.\nLet's plot the decision surface color-coded and then plot the zero-meaned\nsumo and basketball data on top."
          ]
        }, 
        {
          "cell_type": "code", 
          "collapsed": false, 
          "input": [
            "pl.figure()\npl.pcolor(input_space_X, input_space_Y, weighted_output_Z,\n         cmap=pl.cm.Spectral)\npl.plot(zero_meaned_data[all_desired_output == 1, 0],\n       zero_meaned_data[all_desired_output == 1, 1],\n       'ro', linewidth=2, label=\"Sumo wrestlers\")\npl.plot(zero_meaned_data[all_desired_output == -1, 0],\n       zero_meaned_data[all_desired_output == -1, 1],\n       'bx', linewidth=2, label=\"Basketball players\")\npl.xlim(-4, 4)\npl.ylim(-4, 4)\npl.colorbar()\npl.xlabel('Demeaned height')\npl.ylabel('Demeaned weight')\npl.title('Decision output')\npl.legend()\n\n\nfrom mvpa2.base import cfg"
          ], 
          "language": "python", 
          "metadata": {}, 
          "outputs": []
        }
      ], 
      "metadata": {}
    }
  ]
}